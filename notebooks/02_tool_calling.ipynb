{
 "cells": [
  {
   "cell_type": "markdown",
   "id": "cfd6cf43",
   "metadata": {},
   "source": [
    "# Tool calling\n",
    "\n",
    "Tool calling is a way to extend the capabilities of an LLM by allowing it to call external tools or APIs. This can ve useful for task that require access to external data or services."
   ]
  },
  {
   "cell_type": "markdown",
   "id": "9961437a",
   "metadata": {},
   "source": [
    "## Load the .env variables"
   ]
  },
  {
   "cell_type": "code",
   "execution_count": 1,
   "id": "ee7011f8",
   "metadata": {},
   "outputs": [],
   "source": [
    "import os\n",
    "from dotenv import load_dotenv\n",
    "\n",
    "load_dotenv()\n",
    "\n",
    "api_key = os.environ.get(\"OPENAI_API_KEY\")\n",
    "\n",
    "if not api_key:\n",
    "    raise ValueError(\"OPENAI_API_KEY is not set in the enviroment variables\")"
   ]
  },
  {
   "cell_type": "markdown",
   "id": "1107e32b",
   "metadata": {},
   "source": [
    "## Functions as a tool for the agent"
   ]
  },
  {
   "cell_type": "code",
   "execution_count": 2,
   "id": "da3c28a1",
   "metadata": {},
   "outputs": [],
   "source": [
    "# import Agent, Runner and **function_tool**, then we define a llm model\n",
    "from agents import Agent, Runner, function_tool, WebSearchTool\n",
    "\n",
    "from pydantic import BaseModel\n",
    "\n",
    "llm_model = \"gpt-4o-mini\""
   ]
  },
  {
   "cell_type": "code",
   "execution_count": 9,
   "id": "562ee3ca",
   "metadata": {},
   "outputs": [
    {
     "name": "stdout",
     "output_type": "stream",
     "text": [
      "Getting weather for Dallas\n",
      "Getting temperature for Dallas\n"
     ]
    },
    {
     "data": {
      "text/plain": [
       "'The weather in Dallas is sunny, and the temperature is 70 degrees.'"
      ]
     },
     "execution_count": 9,
     "metadata": {},
     "output_type": "execute_result"
    }
   ],
   "source": [
    "@function_tool\n",
    "def get_weather(city: str) -> str:\n",
    "    print(f\"Getting weather for {city}\")\n",
    "    return f\"sunny\"\n",
    "\n",
    "@function_tool\n",
    "def get_temperature(city: str) -> str:\n",
    "    print(f\"Getting temperature for {city}\")\n",
    "    return f\"70 degrees\"\n",
    "\n",
    "weather_agent = Agent(\n",
    "    name = \"Weather Agent\",\n",
    "    instructions = \"\"\"\n",
    "        You are the local weather agent. \n",
    "        You are given a city and you need to tell the weather and temperature.\n",
    "        For any unrelated queries, say i can't help with that./\n",
    "    \"\"\",\n",
    "    model = llm_model,\n",
    "    tools = [get_weather, get_temperature]\n",
    ")\n",
    "\n",
    "result = await Runner.run(weather_agent, \"What is the weather for Dallas?\")\n",
    "result.final_output"
   ]
  },
  {
   "cell_type": "markdown",
   "id": "81142bf0",
   "metadata": {},
   "source": [
    "## OpenAI agent SDK built-in tools"
   ]
  },
  {
   "cell_type": "code",
   "execution_count": 10,
   "id": "1eef364d",
   "metadata": {},
   "outputs": [
    {
     "name": "stdout",
     "output_type": "stream",
     "text": [
      "Here are some recent developments in U.S. politics as of October 14, 2025:\n",
      "\n",
      "**Massive Protests Planned Against President Trump**\n",
      "\n",
      "Millions of Americans are expected to participate in the second \"No Kings\" day protest on October 18, 2025, in over 2,500 locations across the U.S. and internationally. Organized by Indivisible and a coalition of labor unions and activist groups, the demonstrations aim to oppose what they describe as President Donald Trump's authoritarianism and expansion of executive power during his second term. The movement, which first mobilized in June with over five million participants, criticizes Trump’s actions, such as deploying federal forces, censoring dissent, and suggesting a third presidential term. ([time.com](https://time.com/7325683/no-kings-protests-oct-18/?utm_source=openai))\n",
      "\n",
      "**Presidential Medal of Freedom Awarded Posthumously to Charlie Kirk**\n",
      "\n",
      "On October 14, 2025, President Donald Trump posthumously awarded conservative activist Charlie Kirk the Presidential Medal of Freedom, calling him a \"great American hero\" whose influence was key to Trump’s reelection. Kirk, who was killed at a university event in Utah, was the founder of Turning Point USA and known for energizing young conservative voters. His widow, Erika Kirk, accepted the award and vowed to continue his legacy, even suggesting he may have run for president if he had lived. ([apnews.com](https://apnews.com/article/43608cc17a5564d42f542f8a9ef9472b?utm_source=openai))\n",
      "\n",
      "**U.S. Government Shutdown and Economic Impact**\n",
      "\n",
      "As of October 11, 2025, the U.S. federal government shutdown has entered its 11th day, resulting from a budget deadlock between Senate Republicans and Democrats. The main point of contention is funding for a Medicare extension favored by Democrats but opposed by Republicans due to its long-term cost. The shutdown has left around 620,000 of the 2.2 million federal workers furloughed, a number expected to rise as more agencies exhaust reserve funds. Federal employees, including military personnel, risk missing their mid-month pay, which could significantly impact consumer spending. The Trump administration, led by budget director Russell Vought, is using the shutdown to implement substantial federal workforce reductions and hinted at the possibility of withholding back pay—a move that contradicts a 2019 law. This has caused widespread concern among civil servants. ([lemonde.fr](https://www.lemonde.fr/en/economy/article/2025/10/11/us-government-shutdown-begins-to-undermine-the-country-s-economy_6746330_19.html?utm_source=openai))\n",
      "\n",
      "**U.S. Strikes on Venezuelan Boats**\n",
      "\n",
      "On October 1, 2025, President Donald Trump formally notified Congress that the U.S. is in a \"non-international armed conflict\" with \"unlawful combatants\" regarding drug cartels in the Caribbean, specifically referencing the September 15 strike. This declaration follows a series of U.S. Navy airstrikes on alleged Venezuelan drug vessels in the southern Caribbean, which have resulted in casualties. The Trump administration alleges that these vessels were operated by members of the gang Tren de Aragua and were transporting narcotics, but has not provided evidence of the presence of drugs or weapons on board. ([en.wikipedia.org](https://en.wikipedia.org/wiki/2025_United_States_strikes_on_Venezuelan_boats?utm_source=openai))\n",
      "\n",
      "**Upcoming Meeting Between U.S. and Chinese Leaders**\n",
      "\n",
      "U.S. President Donald Trump is expected to meet Chinese leader Xi Jinping in South Korea in late October, amid ongoing efforts to ease escalating trade tensions. The announcement follows China's decision to significantly expand its export controls on rare earth elements, prompting a strong reaction from Trump, including a threat of 100% tariffs on Chinese goods starting November 1. Despite this, U.S. Treasury Secretary Scott Bessent stated that the situation has begun to de-escalate, with extensive bilateral communication over the weekend and upcoming staff-level talks scheduled during the World Bank and IMF meetings in Washington. ([reuters.com](https://www.reuters.com/world/china/trump-track-meet-xi-south-korea-bessent-says-2025-10-13/?utm_source=openai))\n",
      "\n",
      "\n",
      "## Key Updates in U.S. Politics:\n",
      "- [Millions Expected to Rally Across U.S. in 'No Kings Day' Protests Against Trump](https://time.com/7325683/no-kings-protests-oct-18/?utm_source=openai), Published on Tuesday, October 14\n",
      "- [The Latest: Trump awards Charlie Kirk the Presidential Medal of Freedom](https://apnews.com/article/43608cc17a5564d42f542f8a9ef9472b?utm_source=openai), Published on Tuesday, October 14\n",
      "- [US government shutdown begins to undermine the country's economy](https://www.lemonde.fr/en/economy/article/2025/10/11/us-government-shutdown-begins-to-undermine-the-country-s-economy_6746330_19.html?utm_source=openai), Published on Saturday, October 11 \n"
     ]
    }
   ],
   "source": [
    "from agents import WebSearchTool\n",
    "\n",
    "# create a news agent\n",
    "news_agent = Agent(\n",
    "    name = \"News Reporter\",\n",
    "    instructions = \"\"\"\n",
    "        You are a news reporter. \n",
    "        Your jobs is to find recent news articles on the internet about US politics.\n",
    "    \"\"\",\n",
    "    model = llm_model,\n",
    "    tools = [WebSearchTool()]\n",
    ")\n",
    "\n",
    "result = await Runner.run(news_agent, \"find news\")\n",
    "print(result.final_output)"
   ]
  },
  {
   "cell_type": "markdown",
   "id": "15d6bd7d",
   "metadata": {},
   "source": [
    "## Example of an agent with web search tool"
   ]
  },
  {
   "cell_type": "code",
   "execution_count": 4,
   "id": "7b16e1a4",
   "metadata": {},
   "outputs": [],
   "source": [
    "# run script news_agent.py"
   ]
  }
 ],
 "metadata": {
  "kernelspec": {
   "display_name": "oai_agent_sdk_tutorial",
   "language": "python",
   "name": "python3"
  },
  "language_info": {
   "codemirror_mode": {
    "name": "ipython",
    "version": 3
   },
   "file_extension": ".py",
   "mimetype": "text/x-python",
   "name": "python",
   "nbconvert_exporter": "python",
   "pygments_lexer": "ipython3",
   "version": "3.13.3"
  }
 },
 "nbformat": 4,
 "nbformat_minor": 5
}
